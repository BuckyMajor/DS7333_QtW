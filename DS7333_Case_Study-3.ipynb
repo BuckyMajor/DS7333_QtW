{
 "cells": [
  {
   "cell_type": "code",
   "execution_count": 1,
   "metadata": {},
   "outputs": [],
   "source": [
    "#Import standard libraries\n",
    "import pandas as pd\n",
    "import numpy as np\n",
    "import os"
   ]
  },
  {
   "cell_type": "code",
   "execution_count": 2,
   "metadata": {},
   "outputs": [],
   "source": [
    "#Set up path for easy_ham\n",
    "path1 = os.listdir(\"C:/Users/Owner/OneDrive/Documents/DS7333 Quantifying the World/Case Study 3/easy_ham\")"
   ]
  },
  {
   "cell_type": "code",
   "execution_count": 3,
   "metadata": {},
   "outputs": [],
   "source": [
    "#loop to import easy_ham\n",
    "x = []\n",
    "\n",
    "for i in path1:\n",
    "    with  open(os.path.join(\"C:/Users/Owner/OneDrive/Documents/DS7333 Quantifying the World/Case Study 3/easy_ham\", i), 'r', encoding = \"cp437\") as f:\n",
    "        x.append(f.read())"
   ]
  },
  {
   "cell_type": "code",
   "execution_count": 4,
   "metadata": {},
   "outputs": [
    {
     "data": {
      "text/html": [
       "<div>\n",
       "<style scoped>\n",
       "    .dataframe tbody tr th:only-of-type {\n",
       "        vertical-align: middle;\n",
       "    }\n",
       "\n",
       "    .dataframe tbody tr th {\n",
       "        vertical-align: top;\n",
       "    }\n",
       "\n",
       "    .dataframe thead th {\n",
       "        text-align: right;\n",
       "    }\n",
       "</style>\n",
       "<table border=\"1\" class=\"dataframe\">\n",
       "  <thead>\n",
       "    <tr style=\"text-align: right;\">\n",
       "      <th></th>\n",
       "      <th>text</th>\n",
       "      <th>target</th>\n",
       "    </tr>\n",
       "  </thead>\n",
       "  <tbody>\n",
       "    <tr>\n",
       "      <th>0</th>\n",
       "      <td>From exmh-workers-admin@redhat.com  Thu Aug 22...</td>\n",
       "      <td>0</td>\n",
       "    </tr>\n",
       "    <tr>\n",
       "      <th>1</th>\n",
       "      <td>From Steve_Burt@cursor-system.com  Thu Aug 22 ...</td>\n",
       "      <td>0</td>\n",
       "    </tr>\n",
       "    <tr>\n",
       "      <th>2</th>\n",
       "      <td>From timc@2ubh.com  Thu Aug 22 13:52:59 2002\\n...</td>\n",
       "      <td>0</td>\n",
       "    </tr>\n",
       "    <tr>\n",
       "      <th>3</th>\n",
       "      <td>From irregulars-admin@tb.tf  Thu Aug 22 14:23:...</td>\n",
       "      <td>0</td>\n",
       "    </tr>\n",
       "    <tr>\n",
       "      <th>4</th>\n",
       "      <td>From Stewart.Smith@ee.ed.ac.uk  Thu Aug 22 14:...</td>\n",
       "      <td>0</td>\n",
       "    </tr>\n",
       "  </tbody>\n",
       "</table>\n",
       "</div>"
      ],
      "text/plain": [
       "                                                text  target\n",
       "0  From exmh-workers-admin@redhat.com  Thu Aug 22...       0\n",
       "1  From Steve_Burt@cursor-system.com  Thu Aug 22 ...       0\n",
       "2  From timc@2ubh.com  Thu Aug 22 13:52:59 2002\\n...       0\n",
       "3  From irregulars-admin@tb.tf  Thu Aug 22 14:23:...       0\n",
       "4  From Stewart.Smith@ee.ed.ac.uk  Thu Aug 22 14:...       0"
      ]
     },
     "execution_count": 4,
     "metadata": {},
     "output_type": "execute_result"
    }
   ],
   "source": [
    "#Create easy_ham dataframe\n",
    "y = [0]*len(x)\n",
    "\n",
    "dfEH = pd.DataFrame(list(zip(x, y)), columns =['text', 'target']) \n",
    "dfEH.head()"
   ]
  },
  {
   "cell_type": "code",
   "execution_count": 5,
   "metadata": {},
   "outputs": [],
   "source": [
    "#Set up path for easy_ham_2\n",
    "path2 = os.listdir(\"C:/Users/Owner/OneDrive/Documents/DS7333 Quantifying the World/Case Study 3/easy_ham_2\")"
   ]
  },
  {
   "cell_type": "code",
   "execution_count": 6,
   "metadata": {},
   "outputs": [],
   "source": [
    "#loop to import easy_ham_2\n",
    "x = []\n",
    "\n",
    "for i in path2:\n",
    "    with  open(os.path.join(\"C:/Users/Owner/OneDrive/Documents/DS7333 Quantifying the World/Case Study 3/easy_ham_2\", i), 'r', encoding = \"cp437\") as f:\n",
    "        x.append(f.read())"
   ]
  },
  {
   "cell_type": "code",
   "execution_count": 7,
   "metadata": {},
   "outputs": [
    {
     "data": {
      "text/html": [
       "<div>\n",
       "<style scoped>\n",
       "    .dataframe tbody tr th:only-of-type {\n",
       "        vertical-align: middle;\n",
       "    }\n",
       "\n",
       "    .dataframe tbody tr th {\n",
       "        vertical-align: top;\n",
       "    }\n",
       "\n",
       "    .dataframe thead th {\n",
       "        text-align: right;\n",
       "    }\n",
       "</style>\n",
       "<table border=\"1\" class=\"dataframe\">\n",
       "  <thead>\n",
       "    <tr style=\"text-align: right;\">\n",
       "      <th></th>\n",
       "      <th>text</th>\n",
       "      <th>target</th>\n",
       "    </tr>\n",
       "  </thead>\n",
       "  <tbody>\n",
       "    <tr>\n",
       "      <th>0</th>\n",
       "      <td>Return-Path: &lt;exmh-workers-admin@spamassassin....</td>\n",
       "      <td>0</td>\n",
       "    </tr>\n",
       "    <tr>\n",
       "      <th>1</th>\n",
       "      <td>From exmh-workers-admin@redhat.com  Wed Aug 21...</td>\n",
       "      <td>0</td>\n",
       "    </tr>\n",
       "    <tr>\n",
       "      <th>2</th>\n",
       "      <td>From exmh-workers-admin@redhat.com  Wed Aug 21...</td>\n",
       "      <td>0</td>\n",
       "    </tr>\n",
       "    <tr>\n",
       "      <th>3</th>\n",
       "      <td>From exmh-workers-admin@redhat.com  Wed Aug 21...</td>\n",
       "      <td>0</td>\n",
       "    </tr>\n",
       "    <tr>\n",
       "      <th>4</th>\n",
       "      <td>From exmh-workers-admin@redhat.com  Wed Aug 21...</td>\n",
       "      <td>0</td>\n",
       "    </tr>\n",
       "  </tbody>\n",
       "</table>\n",
       "</div>"
      ],
      "text/plain": [
       "                                                text  target\n",
       "0  Return-Path: <exmh-workers-admin@spamassassin....       0\n",
       "1  From exmh-workers-admin@redhat.com  Wed Aug 21...       0\n",
       "2  From exmh-workers-admin@redhat.com  Wed Aug 21...       0\n",
       "3  From exmh-workers-admin@redhat.com  Wed Aug 21...       0\n",
       "4  From exmh-workers-admin@redhat.com  Wed Aug 21...       0"
      ]
     },
     "execution_count": 7,
     "metadata": {},
     "output_type": "execute_result"
    }
   ],
   "source": [
    "#Create easy_ham_2 dataframe\n",
    "y = [0]*len(x)\n",
    "\n",
    "dfEH2 = pd.DataFrame(list(zip(x, y)), columns =['text', 'target']) \n",
    "dfEH2.head()"
   ]
  },
  {
   "cell_type": "code",
   "execution_count": 8,
   "metadata": {},
   "outputs": [],
   "source": [
    "#Set up path for spam\n",
    "path3 = os.listdir(\"C:/Users/Owner/OneDrive/Documents/DS7333 Quantifying the World/Case Study 3/spam\")"
   ]
  },
  {
   "cell_type": "code",
   "execution_count": 9,
   "metadata": {},
   "outputs": [],
   "source": [
    "#loop to import spam\n",
    "x = []\n",
    "\n",
    "for i in path3:\n",
    "    with  open(os.path.join(\"C:/Users/Owner/OneDrive/Documents/DS7333 Quantifying the World/Case Study 3/spam\", i), 'r', encoding = \"cp437\") as f:\n",
    "        x.append(f.read())"
   ]
  },
  {
   "cell_type": "code",
   "execution_count": 10,
   "metadata": {},
   "outputs": [
    {
     "data": {
      "text/html": [
       "<div>\n",
       "<style scoped>\n",
       "    .dataframe tbody tr th:only-of-type {\n",
       "        vertical-align: middle;\n",
       "    }\n",
       "\n",
       "    .dataframe tbody tr th {\n",
       "        vertical-align: top;\n",
       "    }\n",
       "\n",
       "    .dataframe thead th {\n",
       "        text-align: right;\n",
       "    }\n",
       "</style>\n",
       "<table border=\"1\" class=\"dataframe\">\n",
       "  <thead>\n",
       "    <tr style=\"text-align: right;\">\n",
       "      <th></th>\n",
       "      <th>text</th>\n",
       "      <th>target</th>\n",
       "    </tr>\n",
       "  </thead>\n",
       "  <tbody>\n",
       "    <tr>\n",
       "      <th>0</th>\n",
       "      <td>From 12a1mailbot1@web.de  Thu Aug 22 13:17:22 ...</td>\n",
       "      <td>0</td>\n",
       "    </tr>\n",
       "    <tr>\n",
       "      <th>1</th>\n",
       "      <td>From ilug-admin@linux.ie  Thu Aug 22 13:27:39 ...</td>\n",
       "      <td>0</td>\n",
       "    </tr>\n",
       "    <tr>\n",
       "      <th>2</th>\n",
       "      <td>From sabrina@mx3.1premio.com  Thu Aug 22 14:44...</td>\n",
       "      <td>0</td>\n",
       "    </tr>\n",
       "    <tr>\n",
       "      <th>3</th>\n",
       "      <td>From wsup@playful.com  Thu Aug 22 16:17:00 200...</td>\n",
       "      <td>0</td>\n",
       "    </tr>\n",
       "    <tr>\n",
       "      <th>4</th>\n",
       "      <td>From social-admin@linux.ie  Thu Aug 22 16:37:3...</td>\n",
       "      <td>0</td>\n",
       "    </tr>\n",
       "  </tbody>\n",
       "</table>\n",
       "</div>"
      ],
      "text/plain": [
       "                                                text  target\n",
       "0  From 12a1mailbot1@web.de  Thu Aug 22 13:17:22 ...       0\n",
       "1  From ilug-admin@linux.ie  Thu Aug 22 13:27:39 ...       0\n",
       "2  From sabrina@mx3.1premio.com  Thu Aug 22 14:44...       0\n",
       "3  From wsup@playful.com  Thu Aug 22 16:17:00 200...       0\n",
       "4  From social-admin@linux.ie  Thu Aug 22 16:37:3...       0"
      ]
     },
     "execution_count": 10,
     "metadata": {},
     "output_type": "execute_result"
    }
   ],
   "source": [
    "#Create spam dataframe\n",
    "y = [0]*len(x)\n",
    "\n",
    "dfS = pd.DataFrame(list(zip(x, y)), columns =['text', 'target']) \n",
    "dfS.head()"
   ]
  },
  {
   "cell_type": "code",
   "execution_count": 11,
   "metadata": {},
   "outputs": [],
   "source": [
    "#Set up path for spam_2\n",
    "path4 = os.listdir(\"C:/Users/Owner/OneDrive/Documents/DS7333 Quantifying the World/Case Study 3/spam_2\")"
   ]
  },
  {
   "cell_type": "code",
   "execution_count": 12,
   "metadata": {},
   "outputs": [],
   "source": [
    "#loop to import spam_2\n",
    "x = []\n",
    "\n",
    "for i in path4:\n",
    "    with  open(os.path.join(\"C:/Users/Owner/OneDrive/Documents/DS7333 Quantifying the World/Case Study 3/spam_2\", i), 'r', encoding = \"cp437\") as f:\n",
    "        x.append(f.read())"
   ]
  },
  {
   "cell_type": "code",
   "execution_count": 13,
   "metadata": {},
   "outputs": [
    {
     "data": {
      "text/html": [
       "<div>\n",
       "<style scoped>\n",
       "    .dataframe tbody tr th:only-of-type {\n",
       "        vertical-align: middle;\n",
       "    }\n",
       "\n",
       "    .dataframe tbody tr th {\n",
       "        vertical-align: top;\n",
       "    }\n",
       "\n",
       "    .dataframe thead th {\n",
       "        text-align: right;\n",
       "    }\n",
       "</style>\n",
       "<table border=\"1\" class=\"dataframe\">\n",
       "  <thead>\n",
       "    <tr style=\"text-align: right;\">\n",
       "      <th></th>\n",
       "      <th>text</th>\n",
       "      <th>target</th>\n",
       "    </tr>\n",
       "  </thead>\n",
       "  <tbody>\n",
       "    <tr>\n",
       "      <th>0</th>\n",
       "      <td>From ilug-admin@linux.ie  Tue Aug  6 11:51:02 ...</td>\n",
       "      <td>0</td>\n",
       "    </tr>\n",
       "    <tr>\n",
       "      <th>1</th>\n",
       "      <td>From lmrn@mailexcite.com  Mon Jun 24 17:03:24 ...</td>\n",
       "      <td>0</td>\n",
       "    </tr>\n",
       "    <tr>\n",
       "      <th>2</th>\n",
       "      <td>From amknight@mailexcite.com  Mon Jun 24 17:03...</td>\n",
       "      <td>0</td>\n",
       "    </tr>\n",
       "    <tr>\n",
       "      <th>3</th>\n",
       "      <td>From jordan23@mailexcite.com  Mon Jun 24 17:04...</td>\n",
       "      <td>0</td>\n",
       "    </tr>\n",
       "    <tr>\n",
       "      <th>4</th>\n",
       "      <td>From merchantsworld2001@juno.com  Tue Aug  6 1...</td>\n",
       "      <td>0</td>\n",
       "    </tr>\n",
       "  </tbody>\n",
       "</table>\n",
       "</div>"
      ],
      "text/plain": [
       "                                                text  target\n",
       "0  From ilug-admin@linux.ie  Tue Aug  6 11:51:02 ...       0\n",
       "1  From lmrn@mailexcite.com  Mon Jun 24 17:03:24 ...       0\n",
       "2  From amknight@mailexcite.com  Mon Jun 24 17:03...       0\n",
       "3  From jordan23@mailexcite.com  Mon Jun 24 17:04...       0\n",
       "4  From merchantsworld2001@juno.com  Tue Aug  6 1...       0"
      ]
     },
     "execution_count": 13,
     "metadata": {},
     "output_type": "execute_result"
    }
   ],
   "source": [
    "#Create spam_2 dataframe\n",
    "y = [0]*len(x)\n",
    "\n",
    "dfS2 = pd.DataFrame(list(zip(x, y)), columns =['text', 'target']) \n",
    "dfS2.head()"
   ]
  },
  {
   "cell_type": "code",
   "execution_count": 14,
   "metadata": {},
   "outputs": [
    {
     "data": {
      "text/plain": [
       "(8852, 2)"
      ]
     },
     "execution_count": 14,
     "metadata": {},
     "output_type": "execute_result"
    }
   ],
   "source": [
    "#Combine all dataframes\n",
    "data = [dfEH, dfEH2, dfS, dfS2]\n",
    "\n",
    "df = pd.concat(data)\n",
    "\n",
    "df.shape"
   ]
  }
 ],
 "metadata": {
  "kernelspec": {
   "display_name": "Python 3.10.7 64-bit",
   "language": "python",
   "name": "python3"
  },
  "language_info": {
   "codemirror_mode": {
    "name": "ipython",
    "version": 3
   },
   "file_extension": ".py",
   "mimetype": "text/x-python",
   "name": "python",
   "nbconvert_exporter": "python",
   "pygments_lexer": "ipython3",
   "version": "3.10.7"
  },
  "orig_nbformat": 4,
  "vscode": {
   "interpreter": {
    "hash": "c2ed1c1e3dda2d1d09010f3df351d528d97a393444344645f0fddd23da56b409"
   }
  }
 },
 "nbformat": 4,
 "nbformat_minor": 2
}
